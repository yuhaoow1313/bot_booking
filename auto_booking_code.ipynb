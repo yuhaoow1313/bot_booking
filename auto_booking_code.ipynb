{
 "cells": [
  {
   "cell_type": "markdown",
   "metadata": {},
   "source": [
    "### Read Username and PW from local"
   ]
  },
  {
   "cell_type": "code",
   "execution_count": null,
   "metadata": {},
   "outputs": [],
   "source": [
    "import pandas as pd\n",
    "import os"
   ]
  },
  {
   "cell_type": "code",
   "execution_count": null,
   "metadata": {},
   "outputs": [],
   "source": [
    "from selenium import webdriver\n",
    "from selenium.webdriver.common.by import By\n",
    "from selenium.webdriver.support.ui import WebDriverWait\n",
    "from selenium.webdriver.support import expected_conditions as EC\n",
    "from selenium.common.exceptions import TimeoutException\n",
    "from selenium.webdriver.common.keys import Keys\n",
    "\n",
    "import time\n",
    "import datetime\n",
    "from collections import defaultdict\n",
    "import re"
   ]
  },
  {
   "cell_type": "code",
   "execution_count": null,
   "metadata": {},
   "outputs": [],
   "source": [
    "studio_pref=[4,3,2,1]\n",
    "instructors = ['JEAN','JE','TIFFANY','NIC G','HYEKEL','VANESSA','LYDIA','JELINA']\n",
    "\n",
    "#Parameters for zouk onlyere\n",
    "zouk_para = {'pref_time_wkday': ['7:15 PM','8:30 PM', '6:00 PM'],\n",
    "'pref_time_wkend': ['10:45 AM','9:30 AM', '12:00 PM', '1:15 PM', '2:30 PM', '3:45 PM'],\n",
    "'pref_bikes_no': [40,41,42,43,44,45,46,47,48,49,50]}\n",
    "\n",
    "# #Parameters for Milennia only\n",
    "milennia_para = {'pref_time_wkday': ['7:00 PM','8:15 PM'],\n",
    "'pref_time_wkend': ['10:45 AM','9:30 AM', '12:00 PM', '1:15 PM', '2:30 PM', '3:45 PM'],\n",
    "'pref_bikes_no': []}\n",
    "\n",
    "#Parameters for Downtown Gallery only\n",
    "downtown_para = {'pref_time_wkday': ['6:45 PM','7:45 PM'],\n",
    "'pref_time_wkend': ['10:15 AM','9:00 AM', '11:30 AM', '12:45 PM', '2:00 PM', '3:15 PM'],\n",
    "'pref_bikes_no': []}\n",
    "\n",
    "#Parameters for Centrepoint only\n",
    "centrepoint_para = {'pref_time_wkday': ['6:45 PM','7:45 PM'],\n",
    "'pref_time_wkend': ['10:15 AM','9:00 AM', '11:30 AM', '12:45 PM', '2:00 PM', '3:15 PM'],\n",
    "'pref_bikes_no': []}"
   ]
  },
  {
   "cell_type": "code",
   "execution_count": null,
   "metadata": {},
   "outputs": [],
   "source": [
    "#Expected timeslot to book\n",
    "\n",
    "ser_instructor = input(\"Key in instructor name in caps from following list: [JEAN, JE, TIFFANY, NIC G, HYEKEL, VANESSA, LYDIA, JELINA] \")\n",
    "ser_timeslot = input(\"Key in timeslot in format (HH:MM AM/PM): \")\n",
    "ser_gym = input(\"Key in gym: \")\n",
    "\n",
    "ser_parameters=[ser_instructor,ser_timeslot,ser_gym]\n",
    "print(ser_parameters)"
   ]
  },
  {
   "cell_type": "code",
   "execution_count": null,
   "metadata": {},
   "outputs": [],
   "source": [
    "def studio_para(x):\n",
    "    if x ==4:\n",
    "        return zouk_para\n",
    "    elif x == 3:\n",
    "        return milennia_para\n",
    "    elif x ==2:\n",
    "        return downtown_para\n",
    "    elif x==1:\n",
    "        return centrepoint_para\n",
    "\n",
    "dict_pref = {studio: studio_para(studio) for studio in studio_pref}\n",
    "\n",
    "dict_pref"
   ]
  },
  {
   "cell_type": "code",
   "execution_count": null,
   "metadata": {},
   "outputs": [],
   "source": [
    "def read_file():\n",
    "    filepath = os.path.join(os.getcwd(),'desktop','abscycle','serenepw.csv')\n",
    "    file = pd.read_csv(filepath,header=None)\n",
    "    return file\n",
    "    \n",
    "file = read_file()\n",
    "user = file.loc[0,0]\n",
    "pw = file.loc[0,1]"
   ]
  },
  {
   "cell_type": "code",
   "execution_count": null,
   "metadata": {},
   "outputs": [],
   "source": [
    "#Mon=0, Sun=6\n",
    "def wkdaycheck():\n",
    "    wknow = datetime.datetime.today().weekday()\n",
    "    if wknow < 5:\n",
    "        return 'weekday'\n",
    "    else:\n",
    "        return 'weekend'\n",
    "    \n",
    "wkdaycheck()"
   ]
  },
  {
   "cell_type": "markdown",
   "metadata": {},
   "source": [
    "### Navigate website homepage and login"
   ]
  },
  {
   "cell_type": "code",
   "execution_count": null,
   "metadata": {},
   "outputs": [],
   "source": [
    "#Instantiate driver object\n",
    "PATH = \"C:\\Program Files (x86)\\chromedriver.exe\"\n",
    "driver = webdriver.Chrome(PATH)\n",
    "url = 'https://www.absolutecyclesingapore.com/'"
   ]
  },
  {
   "cell_type": "code",
   "execution_count": null,
   "metadata": {},
   "outputs": [],
   "source": [
    "driver.get(url)\n",
    "\n",
    "#Traverse to login page\n",
    "WebDriverWait(driver, 3).until(\\\n",
    "EC.presence_of_element_located((By.XPATH, \n",
    "                                 \".//a[contains(text(), 'LOG IN')]\"))).click()"
   ]
  },
  {
   "cell_type": "code",
   "execution_count": null,
   "metadata": {},
   "outputs": [],
   "source": [
    "def homepage(driver):\n",
    "\n",
    "    #switch frame as elements are on different frame\n",
    "    driver.refresh()\n",
    "    try:\n",
    "        driver.switch_to.frame(0)\n",
    "    except:\n",
    "        return (\"Error in switching frame! Bot failed!\")\n",
    "\n",
    "    #key in username and password\n",
    "    user_element = WebDriverWait(driver, 3).until(EC.element_to_be_clickable((By.XPATH, \"//*[@id='username']\")))\n",
    "    user_element.send_keys(user)\n",
    "\n",
    "    pw_element = WebDriverWait(driver, 3).until(EC.element_to_be_clickable((By.XPATH, \"//*[@id='password']\")))\n",
    "    pw_element.send_keys(pw)\n",
    "\n",
    "    #login to account\n",
    "    WebDriverWait(driver, 3).until(\\\n",
    "    EC.presence_of_element_located((By.XPATH, \n",
    "                                     \".//button[contains(text(), 'Sign In')]\"))).click()"
   ]
  },
  {
   "cell_type": "code",
   "execution_count": null,
   "metadata": {},
   "outputs": [],
   "source": [
    "homepage(driver)"
   ]
  },
  {
   "cell_type": "markdown",
   "metadata": {},
   "source": [
    "### Navigate to studios page"
   ]
  },
  {
   "cell_type": "code",
   "execution_count": null,
   "metadata": {},
   "outputs": [],
   "source": [
    "def nav_studios(driver,studio_pref):\n",
    "    driver.refresh()\n",
    "\n",
    "    xpth = \"//div[@class='container header-menu-nav-item header-menu-nav-item--external']/a\"\n",
    "\n",
    "    WebDriverWait(driver, 3).until(EC.presence_of_element_located((By.XPATH, xpth)))\n",
    "    elems = driver.find_elements_by_xpath(xpth)\n",
    "\n",
    "    for elem in elems:\n",
    "        href_list=[elem.get_attribute('href') for elem in elems]\n",
    "        \n",
    "    new_href_list=[]\n",
    "    for studio in studio_pref:\n",
    "        for href in href_list:\n",
    "            if href.endswith(\"schedule/site/\" + str(studio)):\n",
    "                new_href_list.append(href)\n",
    "        \n",
    "    return new_href_list"
   ]
  },
  {
   "cell_type": "code",
   "execution_count": null,
   "metadata": {},
   "outputs": [],
   "source": [
    "new_href_list = nav_studios(driver,studio_pref)\n",
    "new_href_list"
   ]
  },
  {
   "cell_type": "markdown",
   "metadata": {},
   "source": [
    "### Navigate in Individual Studios to press next week slots"
   ]
  },
  {
   "cell_type": "code",
   "execution_count": null,
   "metadata": {},
   "outputs": [],
   "source": [
    "#Go to next week (click) in individual studio\n",
    "def next_week_slots(driver):\n",
    "    \n",
    "    driver.refresh()\n",
    "    driver.switch_to.frame(0)\n",
    "\n",
    "    xpth1 = \"//li[@class='next']/a\"\n",
    "\n",
    "    WebDriverWait(driver, 3).until(EC.element_to_be_clickable((By.XPATH, xpth1)))\n",
    "    next_elem = driver.find_element_by_xpath(xpth1)\n",
    "    \n",
    "    next_week_slots = next_elem.get_attribute('href')\n",
    "    \n",
    "    return next_week_slots"
   ]
  },
  {
   "cell_type": "code",
   "execution_count": null,
   "metadata": {},
   "outputs": [],
   "source": [
    "#Test out 1 studio - Zouk first\n",
    "for href in new_href_list:\n",
    "    driver.get(href)\n",
    "    break"
   ]
  },
  {
   "cell_type": "code",
   "execution_count": null,
   "metadata": {},
   "outputs": [],
   "source": [
    "#Production situation\n",
    "for href in new_href_list:\n",
    "    \n",
    "    #pull out studio parameters\n",
    "    studio_number = int(href[-1])\n",
    "    pref=dict_pref[studio_number]\n",
    "    \n",
    "    pref_time_wkday = pref['pref_time_wkday']\n",
    "    pref_time_wkend = pref['pref_time_wkend']\n",
    "    pref_bikes_no = pref['pref_bikes_no']\n",
    "    \n",
    "    driver.get(href)\n",
    "\n",
    "    next_week_slots1 = next_week_slots(driver)\n",
    "    \n",
    "    driver.get(next_week_slots1)\n",
    "    \n",
    "    output=avail_slots(driver)\n",
    "    \n",
    "    output_dicts = slot_dict(driver,output[0])\n",
    "    \n",
    "    try:\n",
    "        elem_dict = output_dicts[0]\n",
    "        href_dict = output_dicts[1]\n",
    "\n",
    "        print(f\"elem_dict is {elem_dict}\")\n",
    "        print(f\"href_dict is {href_dict}\")\n",
    "    \n",
    "    except TypeError as e:\n",
    "        elem_dict={}\n",
    "        href_dict={}\n",
    "        print(f\"{e}: No available classes open!\")\n",
    "        \n",
    "    try:\n",
    "        pref_slot(driver,elem_dict,href_dict,wkdaycheck())\n",
    "    except:\n",
    "        continue\n",
    "\n",
    "    "
   ]
  },
  {
   "cell_type": "code",
   "execution_count": null,
   "metadata": {},
   "outputs": [],
   "source": [
    "next_week_slots = next_week_slots(driver)"
   ]
  },
  {
   "cell_type": "code",
   "execution_count": null,
   "metadata": {},
   "outputs": [],
   "source": [
    "driver.get(next_week_slots)"
   ]
  },
  {
   "cell_type": "markdown",
   "metadata": {},
   "source": [
    "### Navigate to find available slots next week"
   ]
  },
  {
   "cell_type": "code",
   "execution_count": null,
   "metadata": {},
   "outputs": [],
   "source": [
    "#select day 0 (exactly 7 days next week) at inidividual studio and get avail/waitlist\n",
    "def avail_slots(driver):\n",
    "    \n",
    "    driver.refresh()\n",
    "    driver.switch_to.frame(0)\n",
    "\n",
    "    xpth_slots= \"//td[@class='day0']\"\n",
    "\n",
    "    WebDriverWait(driver, 3).until(EC.presence_of_element_located((By.XPATH, xpth_slots)))\n",
    "    next_elems = driver.find_elements_by_xpath(\"//td[@class='day0']//child::div\")\n",
    "    \n",
    "    class_ids = {elem.get_attribute('data-classid'):elem.get_attribute('class') for elem in next_elems}\n",
    "    \n",
    "    avail_class_ids = [k for k,v in class_ids.items() if v == 'scheduleBlock bookable' ]\n",
    "    waitlist_class_ids = [k for k,v in class_ids.items() if v == 'scheduleBlock classfull' ]\n",
    "    \n",
    "    return avail_class_ids,waitlist_class_ids"
   ]
  },
  {
   "cell_type": "code",
   "execution_count": null,
   "metadata": {},
   "outputs": [],
   "source": [
    "output = avail_slots(driver)\n",
    "avail_class_ids = output[0]\n",
    "avail_class_ids"
   ]
  },
  {
   "cell_type": "code",
   "execution_count": null,
   "metadata": {},
   "outputs": [],
   "source": [
    "#check individual bookable Ids are within parameters and click in\n",
    "def slot_dict(driver,avail_class_ids):\n",
    "    \n",
    "    elem_dict=defaultdict(list)\n",
    "    href_dict=defaultdict(list)\n",
    "    \n",
    "    driver.refresh()\n",
    "    driver.switch_to.frame(0)\n",
    "    \n",
    "    for slot in avail_class_ids:\n",
    "        \n",
    "        xpth_slots1 = \"//div[@data-classid=\" + slot + \"]\"\n",
    "        xpth_slots1_child_span = xpth_slots1 + '//child::span'\n",
    "        xpth_slots1_child_href = xpth_slots1 + '//child::a'\n",
    "        WebDriverWait(driver, 3).until(EC.presence_of_element_located((By.XPATH, xpth_slots1)))\n",
    "        \n",
    "        next_elems = driver.find_elements_by_xpath(xpth_slots1_child_span)\n",
    "        elem_dict[slot].append(next_elems)\n",
    "        \n",
    "        WebDriverWait(driver, 3).until(EC.presence_of_element_located((By.XPATH, xpth_slots1_child_href)))\n",
    "        href_elems = driver.find_elements_by_xpath(xpth_slots1_child_href)\n",
    "        href_dict[slot].append(href_elems)\n",
    "        \n",
    "    return elem_dict,href_dict"
   ]
  },
  {
   "cell_type": "code",
   "execution_count": null,
   "metadata": {},
   "outputs": [],
   "source": [
    "output_dicts = slot_dict(driver,avail_class_ids)\n",
    "try:\n",
    "    elem_dict = output_dicts[0]\n",
    "    href_dict = output_dicts[1]\n",
    "    \n",
    "    print(elem_dict)\n",
    "    print()\n",
    "    print(href_dict)\n",
    "    \n",
    "except TypeError as e:\n",
    "    elem_dict={}\n",
    "    href_dict={}\n",
    "    print(f\"{e}: No available classes open!\")\n"
   ]
  },
  {
   "cell_type": "code",
   "execution_count": null,
   "metadata": {},
   "outputs": [],
   "source": [
    "#Define book bikes function inside bike page\n",
    "def book_bikes(driver):\n",
    "#     driver.switch_to.frame(0)\n",
    "    xpth_slots2 = \"//div[@id='spotwrapper']//child::a\"\n",
    "    WebDriverWait(driver, 3).until(EC.presence_of_element_located((By.XPATH, xpth_slots2)))\n",
    "\n",
    "    next_elems2 = driver.find_elements_by_xpath(xpth_slots2)\n",
    "    \n",
    "    for elem in next_elems2:\n",
    "        bike_no = re.findall('[0-9]+',elem.get_attribute('id'))[0]\n",
    "    \n",
    "#         if int(bike_no) not in zouk_para['pref_bikes_no']\n",
    "        if int(bike_no) not in pref_bikes_no:\n",
    "            \n",
    "            print(elem.get_attribute('href'))\n",
    "\n",
    "            driver.get(elem.get_attribute('href'))\n",
    "            print(f\"No {bike_no} bike booked!\")\n",
    "            break\n",
    "        \n",
    "        else:\n",
    "            print(f\"No bikes available!\")"
   ]
  },
  {
   "cell_type": "code",
   "execution_count": null,
   "metadata": {},
   "outputs": [],
   "source": [
    "#check whether preferred instruc and timeslots available, and get href and click in and book bikes\n",
    "def pref_slot(driver,elem_dict,href_dict,is_weekday):\n",
    "    \n",
    "    instruct=False\n",
    "    time=False\n",
    "    \n",
    "    if is_weekday == 'weekday':\n",
    "#         time_slots = zouk_para['pref_time_wkday']\n",
    "        time_slots = pref_time_wkday\n",
    "    elif is_weekday == 'weekend':\n",
    "#         time_slots = zouk_para['pref_time_wkend']\n",
    "        time_slots = pref_time_wkend\n",
    "    \n",
    "    if elem_dict=={} or href_dict=={}:\n",
    "        print('No slots available!')\n",
    "        print()\n",
    "        \n",
    "    else:\n",
    "    \n",
    "        for slot,elems in elem_dict.items():\n",
    "            for element in elems[0]:\n",
    "\n",
    "                if element.text.rstrip() in instructors:\n",
    "#                     print(f\"Yes, instructor {element.text} slot found!\")\n",
    "                    instruct=element.text\n",
    "\n",
    "                if element.text.rstrip('45 MIN').rstrip() in time_slots:\n",
    "#                     print((f\"Yes, time slot @ {element.text} found!\"))\n",
    "                    time=element.text\n",
    "\n",
    "            if instruct and time:\n",
    "                to_click = href_dict[slot][0][0].get_attribute('href')\n",
    "                print(f\"{instruct} at {time} found!\")\n",
    "\n",
    "#                     driver.refresh()\n",
    "#                     driver.switch_to.frame(0)\n",
    "#                     time.sleep(2)\n",
    "\n",
    "                driver.get(to_click)\n",
    "                \n",
    "                try:\n",
    "                    book_bikes(driver)\n",
    "                    print('Successfully went to bikes page and booked!')\n",
    "                    break\n",
    "                \n",
    "                except:\n",
    "                    print(\"Went to login page...\")\n",
    "                    homepage(driver)\n",
    "                    print(\"Relogined again!\")\n",
    "                    \n",
    "                    book_bikes(driver)\n",
    "                    print(\"Successfully went to bikes page and booked after relogin!\")\n",
    "                    break\n",
    "                    "
   ]
  },
  {
   "cell_type": "code",
   "execution_count": null,
   "metadata": {},
   "outputs": [],
   "source": [
    "instructors=['AMINAH']\n",
    "time_slots=['10:30 AM','9:30 AM']"
   ]
  },
  {
   "cell_type": "code",
   "execution_count": null,
   "metadata": {},
   "outputs": [],
   "source": [
    "intruct=False\n",
    "time=False\n",
    "\n",
    "for slot,elems in elem_dict.items():\n",
    "    print(slot)\n",
    "    for element in elems[0]:\n",
    "        if element.text.rstrip() in instructors:\n",
    "            print(element.text.rstrip())\n",
    "            instruct=element.text.rstrip()\n",
    "        \n",
    "        if element.text.rstrip('45 MIN').rstrip() in time_slots:\n",
    "            print(element.text.rstrip('45 MIN').rstrip())\n",
    "            time=element.text.rstrip('45 MIN').rstrip()\n",
    "            \n",
    "    if instruct and time:\n",
    "        print(f\"{instruct} at {time} found!\")\n",
    "        to_click = href_dict[slot][0][0].get_attribute('href')\n",
    "        print(to_click)\n",
    "        instruct=False\n",
    "        time=False\n",
    "        \n",
    "    print()"
   ]
  },
  {
   "cell_type": "code",
   "execution_count": null,
   "metadata": {},
   "outputs": [],
   "source": [
    "href_dict"
   ]
  },
  {
   "cell_type": "code",
   "execution_count": null,
   "metadata": {
    "scrolled": false
   },
   "outputs": [],
   "source": [
    "pref_slot(driver,elem_dict,href_dict,wkdaycheck())"
   ]
  },
  {
   "cell_type": "code",
   "execution_count": null,
   "metadata": {},
   "outputs": [],
   "source": [
    "for slot,elems in elem_dict.items():\n",
    "    print(slot)\n",
    "    for element in elems[0]:\n",
    "        print(element.text)\n",
    "        abc= element.text.rstrip('45 MIN').rstrip()\n",
    "        print(abc)\n",
    "        if abc in time_slots:\n",
    "            print(\"YES\")\n",
    "        print('a')\n",
    "    print('next')"
   ]
  }
 ],
 "metadata": {
  "kernelspec": {
   "display_name": "Python 3",
   "language": "python",
   "name": "python3"
  },
  "language_info": {
   "codemirror_mode": {
    "name": "ipython",
    "version": 3
   },
   "file_extension": ".py",
   "mimetype": "text/x-python",
   "name": "python",
   "nbconvert_exporter": "python",
   "pygments_lexer": "ipython3",
   "version": "3.7.3"
  }
 },
 "nbformat": 4,
 "nbformat_minor": 2
}
